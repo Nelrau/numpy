{
  "cells": [
    {
      "cell_type": "markdown",
      "metadata": {
        "id": "view-in-github",
        "colab_type": "text"
      },
      "source": [
        "<a href=\"https://colab.research.google.com/github/Nelrau/numpy/blob/main/numpy_00_arrays_vs_listas.ipynb\" target=\"_parent\"><img src=\"https://colab.research.google.com/assets/colab-badge.svg\" alt=\"Open In Colab\"/></a>"
      ]
    },
    {
      "cell_type": "markdown",
      "metadata": {
        "id": "-pfQmkpwmxHK"
      },
      "source": [
        "# Guia de Introdução ao NumPy\n",
        "\n",
        "NumPy, que significa Numerical Python, é uma biblioteca fundamental para a computação científica em Python. Mas suas capacidades vão muito além disso, como veremos nos nestes vídeos. E ele serve como uma boa base para o Pandas, que é uma das bibliotecas mais populares para análise de dados em Python."
      ]
    },
    {
      "cell_type": "markdown",
      "metadata": {
        "id": "th8DbMn5mxIL"
      },
      "source": [
        "## Instalação\n",
        "\n",
        "Para instalar o NumPy, você pode usar o comando `pip install numpy` no terminal."
      ]
    },
    {
      "cell_type": "code",
      "execution_count": 2,
      "metadata": {
        "jupyter": {
          "outputs_hidden": false
        },
        "colab": {
          "base_uri": "https://localhost:8080/"
        },
        "id": "JLeRZImNmxIb",
        "outputId": "8ec0a3a1-caad-47d4-b2b2-7aeff6acd90c"
      },
      "outputs": [
        {
          "output_type": "stream",
          "name": "stdout",
          "text": [
            "Collecting update\n",
            "  Downloading update-0.0.1-py2.py3-none-any.whl (2.9 kB)\n",
            "Requirement already satisfied: numpy in /usr/local/lib/python3.10/dist-packages (1.23.5)\n",
            "Collecting style==1.1.0 (from update)\n",
            "  Downloading style-1.1.0-py2.py3-none-any.whl (6.4 kB)\n",
            "Installing collected packages: style, update\n",
            "Successfully installed style-1.1.0 update-0.0.1\n"
          ]
        }
      ],
      "source": [
        "!pip install update numpy"
      ]
    },
    {
      "cell_type": "markdown",
      "metadata": {
        "id": "_Z8FjW31mxI4"
      },
      "source": [
        "## Arrays NumPy\n",
        "\n",
        "Um array é uma estrutura de dados que armazena valores de um mesmo tipo. Em Python, isso é uma grande vantagem porque economiza espaço e permite operações mais eficientes."
      ]
    },
    {
      "cell_type": "code",
      "execution_count": 5,
      "metadata": {
        "jupyter": {
          "outputs_hidden": false
        },
        "colab": {
          "base_uri": "https://localhost:8080/"
        },
        "id": "68ATR7yBmxI7",
        "outputId": "7f667353-da73-4d84-f5ca-6fd1f46a3f1a"
      },
      "outputs": [
        {
          "output_type": "stream",
          "name": "stdout",
          "text": [
            "[1 2 3 4 5]\n"
          ]
        }
      ],
      "source": [
        "import numpy as np\n",
        "\n",
        "array = np.array([1, 2, 3, 4, 5])\n",
        "print(array)"
      ]
    },
    {
      "cell_type": "markdown",
      "metadata": {
        "id": "LgqPnQzAmxJQ"
      },
      "source": [
        "É relevante entender a diferença entre uma lista e um array.\n",
        "\n",
        "Uma **lista** é uma das estruturas de dados mais básicas em Python. Ela pode conter qualquer tipo de elementos, como números, strings, outras listas, e todos eles podem ser de tipos diferentes. Por exemplo:\n"
      ]
    },
    {
      "cell_type": "code",
      "execution_count": null,
      "metadata": {
        "jupyter": {
          "outputs_hidden": false
        },
        "id": "wqRaJdwdmxJg",
        "outputId": "d28ae75b-a935-44d3-84d2-450181d2e919"
      },
      "outputs": [
        {
          "name": "stdout",
          "output_type": "stream",
          "text": [
            "[1, 'dois', 3.0]\n"
          ]
        }
      ],
      "source": [
        "lista = [1, 'dois', 3.0]\n",
        "print(lista)"
      ]
    },
    {
      "cell_type": "code",
      "execution_count": null,
      "metadata": {
        "jupyter": {
          "outputs_hidden": false
        },
        "id": "sjRTqFN_mxJn",
        "outputId": "2a23db6c-febb-4baa-d7e0-b7478657ebea"
      },
      "outputs": [
        {
          "name": "stdout",
          "output_type": "stream",
          "text": [
            "<class 'list'>\n"
          ]
        }
      ],
      "source": [
        "print(type(lista))"
      ]
    },
    {
      "cell_type": "code",
      "execution_count": null,
      "metadata": {
        "jupyter": {
          "outputs_hidden": false
        },
        "id": "J5cRG6kImxJ2",
        "outputId": "bc47555e-28c5-4dd1-f774-7b03fcadb6bc"
      },
      "outputs": [
        {
          "name": "stdout",
          "output_type": "stream",
          "text": [
            "<class 'int'>\n",
            "<class 'str'>\n",
            "<class 'float'>\n"
          ]
        }
      ],
      "source": [
        "for elemento in lista:\n",
        "    print(type(elemento))"
      ]
    },
    {
      "cell_type": "markdown",
      "metadata": {
        "id": "AksYbGaimxJ9"
      },
      "source": [
        "Um **array**, por outro lado, é uma estrutura de dados que também armazena elementos, mas todos os elementos devem ser do mesmo tipo. Se você tentar criar um array com elementos de tipos diferentes, o NumPy irá convertê-los todos para o tipo mais geral. Por exemplo:"
      ]
    },
    {
      "cell_type": "code",
      "execution_count": null,
      "metadata": {
        "jupyter": {
          "outputs_hidden": false
        },
        "id": "dYph94l-mxKH",
        "outputId": "74f2c301-eab3-4d42-e4b2-1f519f638960"
      },
      "outputs": [
        {
          "name": "stdout",
          "output_type": "stream",
          "text": [
            "['1' 'dois' '3.0']\n"
          ]
        }
      ],
      "source": [
        "import numpy as np\n",
        "\n",
        "array = np.array(lista)\n",
        "print(array)"
      ]
    },
    {
      "cell_type": "code",
      "execution_count": null,
      "metadata": {
        "jupyter": {
          "outputs_hidden": false
        },
        "id": "wCzoXhsFmxKV",
        "outputId": "d541635b-3abc-4bf5-f265-6cd7cd991741"
      },
      "outputs": [
        {
          "name": "stdout",
          "output_type": "stream",
          "text": [
            "<class 'numpy.ndarray'>\n"
          ]
        }
      ],
      "source": [
        "print(type(array))"
      ]
    },
    {
      "cell_type": "code",
      "execution_count": null,
      "metadata": {
        "jupyter": {
          "outputs_hidden": false
        },
        "id": "HvjpmN9ImxKW",
        "outputId": "e630413f-3462-4d3a-c103-15d72ab47c25"
      },
      "outputs": [
        {
          "name": "stdout",
          "output_type": "stream",
          "text": [
            "<U32\n"
          ]
        }
      ],
      "source": [
        "print(array.dtype)"
      ]
    },
    {
      "cell_type": "markdown",
      "metadata": {
        "id": "FLS5tAJPmxKY"
      },
      "source": [
        "\n",
        "## Operações Matemáticas\n",
        "\n",
        "Se você tentar adicionar um número a todos os elementos de uma lista, você receberá um erro.\n",
        "\n"
      ]
    },
    {
      "cell_type": "code",
      "execution_count": 7,
      "metadata": {
        "jupyter": {
          "outputs_hidden": false
        },
        "colab": {
          "base_uri": "https://localhost:8080/",
          "height": 218
        },
        "id": "nGS8cvVXmxKn",
        "outputId": "7ff05855-34c9-4233-f9a1-fbebc8130c00"
      },
      "outputs": [
        {
          "output_type": "error",
          "ename": "TypeError",
          "evalue": "ignored",
          "traceback": [
            "\u001b[0;31m---------------------------------------------------------------------------\u001b[0m",
            "\u001b[0;31mTypeError\u001b[0m                                 Traceback (most recent call last)",
            "\u001b[0;32m<ipython-input-7-0840bdf6c4b6>\u001b[0m in \u001b[0;36m<cell line: 2>\u001b[0;34m()\u001b[0m\n\u001b[1;32m      1\u001b[0m \u001b[0mlista\u001b[0m \u001b[0;34m=\u001b[0m \u001b[0;34m[\u001b[0m\u001b[0;36m1\u001b[0m\u001b[0;34m,\u001b[0m \u001b[0;36m2\u001b[0m\u001b[0;34m,\u001b[0m \u001b[0;36m3\u001b[0m\u001b[0;34m,\u001b[0m \u001b[0;36m4\u001b[0m\u001b[0;34m,\u001b[0m \u001b[0;36m5\u001b[0m\u001b[0;34m]\u001b[0m\u001b[0;34m\u001b[0m\u001b[0;34m\u001b[0m\u001b[0m\n\u001b[0;32m----> 2\u001b[0;31m \u001b[0mnova_lista\u001b[0m \u001b[0;34m=\u001b[0m \u001b[0mlista\u001b[0m \u001b[0;34m+\u001b[0m \u001b[0;36m1\u001b[0m  \u001b[0;31m# Isso causará um erro\u001b[0m\u001b[0;34m\u001b[0m\u001b[0;34m\u001b[0m\u001b[0m\n\u001b[0m\u001b[1;32m      3\u001b[0m \u001b[0mprint\u001b[0m\u001b[0;34m(\u001b[0m\u001b[0mnova_lista\u001b[0m\u001b[0;34m)\u001b[0m\u001b[0;34m\u001b[0m\u001b[0;34m\u001b[0m\u001b[0m\n",
            "\u001b[0;31mTypeError\u001b[0m: can only concatenate list (not \"int\") to list"
          ]
        }
      ],
      "source": [
        "lista = [1, 2, 3, 4, 5]\n",
        "nova_lista = lista + 1  # Isso causará um erro\n",
        "print(nova_lista)"
      ]
    },
    {
      "cell_type": "code",
      "execution_count": 8,
      "metadata": {
        "ExecuteTime": {
          "end_time": "2023-07-03T18:58:54.095292100Z",
          "start_time": "2023-07-03T18:58:54.065019700Z"
        },
        "jupyter": {
          "outputs_hidden": false
        },
        "colab": {
          "base_uri": "https://localhost:8080/"
        },
        "id": "KqGgDn4kmxKx",
        "outputId": "4209144e-ae8c-45c1-8fea-8e46bb0065ff"
      },
      "outputs": [
        {
          "output_type": "stream",
          "name": "stdout",
          "text": [
            "[2, 3, 4, 5, 6]\n"
          ]
        }
      ],
      "source": [
        "nova_lista = []\n",
        "\n",
        "for numero in lista:\n",
        "    nova_lista.append(numero + 1)\n",
        "\n",
        "print(nova_lista)"
      ]
    },
    {
      "cell_type": "markdown",
      "metadata": {
        "id": "lYS8S-IOmxKz"
      },
      "source": [
        "Com um array NumPy, você pode adicionar (ou subtrair, multiplicar, dividir) um número a todos os elementos de uma vez.\n",
        "\n"
      ]
    },
    {
      "cell_type": "code",
      "execution_count": null,
      "metadata": {
        "ExecuteTime": {
          "end_time": "2023-07-03T18:58:55.375064700Z",
          "start_time": "2023-07-03T18:58:55.369280700Z"
        },
        "jupyter": {
          "outputs_hidden": false
        },
        "id": "ZuxPF_TLmxK9",
        "outputId": "c1982546-2d86-4bd8-a059-c2d4abf52eaa"
      },
      "outputs": [
        {
          "name": "stdout",
          "output_type": "stream",
          "text": [
            "[2 3 4 5 6]\n"
          ]
        }
      ],
      "source": [
        "import numpy as np\n",
        "\n",
        "array = np.array([1, 2, 3, 4, 5])\n",
        "novo_array = array + 1  # Isso adicionará 1 a todos os elementos\n",
        "print(novo_array)\n"
      ]
    },
    {
      "cell_type": "markdown",
      "metadata": {
        "id": "SwzCa7KQmxK_"
      },
      "source": [
        "## Desempenho\n",
        "\n",
        "Para grandes quantidades de dados, os arrays NumPy são significativamente mais eficientes em termos de memória e desempenho do que as listas Python. Aqui está um exemplo que demonstra isso:\n",
        "\n"
      ]
    },
    {
      "cell_type": "code",
      "execution_count": 25,
      "metadata": {
        "ExecuteTime": {
          "end_time": "2023-07-03T18:58:58.085135200Z",
          "start_time": "2023-07-03T18:58:57.192521Z"
        },
        "jupyter": {
          "outputs_hidden": false
        },
        "colab": {
          "base_uri": "https://localhost:8080/"
        },
        "id": "BDu7sxAlmxLA",
        "outputId": "e5fbde07-c768-4749-eec1-8df84de169df"
      },
      "outputs": [
        {
          "output_type": "stream",
          "name": "stdout",
          "text": [
            "Tempo para somar todos os números na lista: 0.23 segundos\n",
            "Tempo para somar todos os números no array: 0.87 segundos\n"
          ]
        }
      ],
      "source": [
        "import numpy as np\n",
        "import time\n",
        "\n",
        "# Crie uma lista e um array com 10 milhões de números\n",
        "lista = list(range(1, 10_000_001))\n",
        "array = np.array(range(1, 10_000_001))\n",
        "\n",
        "# Calcule a soma de todos os números na lista\n",
        "inicio = time.time()\n",
        "soma_lista = sum(lista)\n",
        "fim = time.time()\n",
        "print(f\"Tempo para somar todos os números na lista: {fim - inicio:.2f} segundos\")\n",
        "\n",
        "# Calcule a soma de todos os números no array\n",
        "inicio = time.time()\n",
        "soma_array = np.sum(array)\n",
        "fim = time.time()\n",
        "print(f\"Tempo para somar todos os números no array: {fim - inicio:.2f} segundos\")\n"
      ]
    },
    {
      "cell_type": "markdown",
      "metadata": {
        "id": "a5Y3K2OSmxLX"
      },
      "source": [
        "## Resumindo\n",
        "\n",
        "Aqui estão algumas diferenças chave entre listas e arrays:\n",
        "\n",
        "1. **Tipo de dados**: As listas podem armazenar elementos de tipos diferentes ao mesmo tempo, enquanto os arrays armazenam elementos do mesmo tipo.\n",
        "\n",
        "2. **Operações matemáticas**: Você pode realizar operações matemáticas em todos os elementos de um array de uma vez, o que não é possível com listas.\n",
        "\n",
        "3. **Desempenho**: Arrays são mais eficientes em termos de memória e desempenho do que listas quando se trabalha com grandes quantidades de dados numéricos.\n",
        "\n",
        "4. **Funcionalidades**: NumPy arrays vêm com várias funções integradas para operações matemáticas e científicas, como média, soma, multiplicação de matrizes, etc., que não estão disponíveis com listas.\n"
      ]
    }
  ],
  "metadata": {
    "kernelspec": {
      "display_name": "Python 3 (ipykernel)",
      "language": "python",
      "name": "python3"
    },
    "language_info": {
      "codemirror_mode": {
        "name": "ipython",
        "version": 3
      },
      "file_extension": ".py",
      "mimetype": "text/x-python",
      "name": "python",
      "nbconvert_exporter": "python",
      "pygments_lexer": "ipython3",
      "version": "3.10.11"
    },
    "colab": {
      "provenance": [],
      "include_colab_link": true
    }
  },
  "nbformat": 4,
  "nbformat_minor": 0
}