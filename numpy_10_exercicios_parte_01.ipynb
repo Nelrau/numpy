{
  "cells": [
    {
      "cell_type": "markdown",
      "metadata": {
        "id": "view-in-github",
        "colab_type": "text"
      },
      "source": [
        "<a href=\"https://colab.research.google.com/github/Nelrau/numpy/blob/main/numpy_10_exercicios_parte_01.ipynb\" target=\"_parent\"><img src=\"https://colab.research.google.com/assets/colab-badge.svg\" alt=\"Open In Colab\"/></a>"
      ]
    },
    {
      "cell_type": "markdown",
      "metadata": {
        "id": "mgc6IkK9Pao_"
      },
      "source": [
        "## Exercício\n",
        "\n",
        "Você é um gerente de vendas e tem os dados de vendas de três produtos diferentes (Produto A, Produto B, Produto C) para os últimos 5 dias em um array 2D NumPy. Cada linha do array representa um produto e cada coluna representa um dia. Seu trabalho é calcular as vendas totais para cada produto e para cada dia.\n",
        "\n",
        "Use o seguinte array para sua análise:\n",
        "\n",
        "```python\n",
        "vendas = np.array([[50, 60, 70, 65, 80],\n",
        "                   [85, 90, 78, 92, 88],\n",
        "                   [72, 75, 68, 77, 76]])\n",
        "```\n",
        "\n",
        "**Solução:**\n"
      ]
    },
    {
      "cell_type": "code",
      "execution_count": 19,
      "metadata": {
        "ExecuteTime": {
          "end_time": "2023-07-03T12:12:12.700234800Z",
          "start_time": "2023-07-03T12:12:12.677347900Z"
        },
        "jupyter": {
          "outputs_hidden": false
        },
        "colab": {
          "base_uri": "https://localhost:8080/"
        },
        "id": "btrEDlukPapS",
        "outputId": "2f9bb3bc-9c75-4f4d-ac78-70ce96ae6550"
      },
      "outputs": [
        {
          "output_type": "stream",
          "name": "stdout",
          "text": [
            "[325 433 368]\n",
            "[325 433 368]\n",
            "\n",
            "__x__\n",
            "\n",
            "[207 225 216 234 244]\n",
            "[207 225 216 234 244]\n"
          ]
        }
      ],
      "source": [
        "from re import A\n",
        "import numpy as np\n",
        "\n",
        "vendas = np.array([[50, 60, 70, 65, 80],\n",
        "                   [85, 90, 78, 92, 88],\n",
        "                   [72, 75, 68, 77, 76]])\n",
        "#produto\n",
        "print(vendas.sum(axis=1))\n",
        "print(np.sum(vendas,axis=1))\n",
        "print('\\n__x__\\n')\n",
        "#dia\n",
        "print(vendas.sum(axis=0))\n",
        "print(np.sum(vendas,axis=0))"
      ]
    },
    {
      "cell_type": "code",
      "source": [
        "v_produto = vendas.sum(axis=1)\n",
        "print(f'venda de produto A - {v_produto[0]}')"
      ],
      "metadata": {
        "colab": {
          "base_uri": "https://localhost:8080/"
        },
        "id": "rs5DmjmCaqAi",
        "outputId": "2c47d091-ad65-4308-c626-95e6237283f5"
      },
      "execution_count": 25,
      "outputs": [
        {
          "output_type": "stream",
          "name": "stdout",
          "text": [
            "venda de produto A - 325\n"
          ]
        }
      ]
    },
    {
      "cell_type": "code",
      "source": [
        "v_dias = vendas.sum(axis=0)\n",
        "for i in range(0,5):\n",
        "  print(f'venda do dia {i+1} - {v_dias[i]}')\n"
      ],
      "metadata": {
        "colab": {
          "base_uri": "https://localhost:8080/"
        },
        "id": "PDnz9T6Dbzk-",
        "outputId": "7c20fd56-fdd3-489d-88c5-6d7b8775935f"
      },
      "execution_count": 29,
      "outputs": [
        {
          "output_type": "stream",
          "name": "stdout",
          "text": [
            "venda do dia 1 - 207\n",
            "venda do dia 2 - 225\n",
            "venda do dia 3 - 216\n",
            "venda do dia 4 - 234\n",
            "venda do dia 5 - 244\n"
          ]
        }
      ]
    }
  ],
  "metadata": {
    "kernelspec": {
      "display_name": "Python 3 (ipykernel)",
      "language": "python",
      "name": "python3"
    },
    "language_info": {
      "codemirror_mode": {
        "name": "ipython",
        "version": 3
      },
      "file_extension": ".py",
      "mimetype": "text/x-python",
      "name": "python",
      "nbconvert_exporter": "python",
      "pygments_lexer": "ipython3",
      "version": "3.10.11"
    },
    "colab": {
      "provenance": [],
      "include_colab_link": true
    }
  },
  "nbformat": 4,
  "nbformat_minor": 0
}