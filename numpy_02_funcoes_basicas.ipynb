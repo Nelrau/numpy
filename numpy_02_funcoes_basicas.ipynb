{
  "cells": [
    {
      "cell_type": "markdown",
      "metadata": {
        "id": "view-in-github",
        "colab_type": "text"
      },
      "source": [
        "<a href=\"https://colab.research.google.com/github/Nelrau/numpy/blob/main/numpy_02_funcoes_basicas.ipynb\" target=\"_parent\"><img src=\"https://colab.research.google.com/assets/colab-badge.svg\" alt=\"Open In Colab\"/></a>"
      ]
    },
    {
      "cell_type": "markdown",
      "metadata": {
        "id": "zJZt_GKHBBTK"
      },
      "source": [
        "# Guia de Introdução ao NumPy\n",
        "\n",
        "NumPy, que significa Numerical Python, é uma biblioteca fundamental para a computação científica em Python. Ela fornece suporte para arrays e matrizes, além de funções matemáticas para operações com esses objetos. É, também, a base da biblioteca Pandas.\n",
        "\n"
      ]
    },
    {
      "cell_type": "markdown",
      "metadata": {
        "id": "WZqB9MrHBBV4"
      },
      "source": [
        "## Aplicações do dia a dia\n",
        "\n",
        "Vamos supor que você trabalha em uma empresa de vendas e tem os preços de diferentes produtos em uma lista. Você quer aumentar o preço de todos os produtos em 10%. Com NumPy, isso é simples.\n",
        "\n"
      ]
    },
    {
      "cell_type": "code",
      "execution_count": 1,
      "metadata": {
        "ExecuteTime": {
          "end_time": "2023-07-03T19:00:02.096368900Z",
          "start_time": "2023-07-03T19:00:01.993018200Z"
        },
        "jupyter": {
          "outputs_hidden": false
        },
        "colab": {
          "base_uri": "https://localhost:8080/"
        },
        "id": "e5ziR_tPBBWV",
        "outputId": "0de29fd5-4118-43a5-f09a-007c1b42ffad"
      },
      "outputs": [
        {
          "output_type": "stream",
          "name": "stdout",
          "text": [
            "[22.  27.5 33.  38.5 44. ]\n"
          ]
        }
      ],
      "source": [
        "import numpy as np\n",
        "\n",
        "# Preços dos produtos\n",
        "precos = np.array([20, 25, 30, 35, 40])\n",
        "\n",
        "# Aumentar os preços em 10 % (ex.: ajuste de inflação)\n",
        "novos_precos = precos * 1.10\n",
        "print(novos_precos)"
      ]
    },
    {
      "cell_type": "markdown",
      "metadata": {
        "id": "pw0I3uzXBBW-"
      },
      "source": [
        "## np.sum()\n",
        "\n",
        "NumPy vem com muitas funções úteis. Por exemplo, você pode usar a função `sum()` para somar todos os elementos de um array. Isso pode ser útil para somar todas as vendas de um dia, por exemplo.\n",
        "\n"
      ]
    },
    {
      "cell_type": "code",
      "execution_count": 3,
      "metadata": {
        "ExecuteTime": {
          "end_time": "2023-07-03T19:00:02.114631Z",
          "start_time": "2023-07-03T19:00:02.098862600Z"
        },
        "jupyter": {
          "outputs_hidden": false
        },
        "colab": {
          "base_uri": "https://localhost:8080/"
        },
        "id": "2e1Fy-M3BBXA",
        "outputId": "d4fdb243-5332-45a7-f246-5959465eb32a"
      },
      "outputs": [
        {
          "output_type": "stream",
          "name": "stdout",
          "text": [
            "1180\n"
          ]
        }
      ],
      "source": [
        "\n",
        "\n",
        "# Vendas do dia\n",
        "vendas = np.array([200, 220, 250, 210, 300])\n",
        "\n",
        "# Somar todas as vendas\n",
        "total_vendas = np.sum(vendas)\n",
        "print(total_vendas)"
      ]
    },
    {
      "cell_type": "markdown",
      "metadata": {
        "id": "nzSCAriJBBXV"
      },
      "source": [
        "## np.mean()\n",
        "\n",
        "A função `mean()` é usada para calcular a média de um array. Por exemplo, se você quiser calcular a média de vendas diárias em uma semana.\n"
      ]
    },
    {
      "cell_type": "code",
      "execution_count": 2,
      "metadata": {
        "ExecuteTime": {
          "end_time": "2023-07-03T19:00:02.156169700Z",
          "start_time": "2023-07-03T19:00:02.112124500Z"
        },
        "jupyter": {
          "outputs_hidden": false
        },
        "colab": {
          "base_uri": "https://localhost:8080/"
        },
        "id": "i9bWLf6VBBXX",
        "outputId": "fb9c02d1-841b-4d2d-fe5a-c22e0777a879"
      },
      "outputs": [
        {
          "output_type": "stream",
          "name": "stdout",
          "text": [
            "241.42857142857142\n"
          ]
        }
      ],
      "source": [
        "\n",
        "\n",
        "# Vendas diárias em uma semana\n",
        "vendas = np.array([200, 220, 250, 210, 300, 280, 230])\n",
        "\n",
        "# Calcular a média de vendas\n",
        "media_vendas = np.mean(vendas)\n",
        "print(media_vendas)"
      ]
    },
    {
      "cell_type": "markdown",
      "metadata": {
        "id": "k5nkGSjxBBXn"
      },
      "source": [
        "## np.max() e np.min()\n",
        "\n",
        "As funções `max()` e `min()` são usadas para encontrar o valor máximo e mínimo em um array, respectivamente. Por exemplo, para encontrar o produto mais caro e mais barato.\n",
        "\n"
      ]
    },
    {
      "cell_type": "code",
      "execution_count": 5,
      "metadata": {
        "ExecuteTime": {
          "end_time": "2023-07-03T19:00:02.156169700Z",
          "start_time": "2023-07-03T19:00:02.128951400Z"
        },
        "jupyter": {
          "outputs_hidden": false
        },
        "colab": {
          "base_uri": "https://localhost:8080/"
        },
        "id": "z_hR0g1EBBXw",
        "outputId": "01dd0ef9-1b9b-442e-ac03-eab555616ebd"
      },
      "outputs": [
        {
          "output_type": "stream",
          "name": "stdout",
          "text": [
            "40 20\n"
          ]
        }
      ],
      "source": [
        "\n",
        "\n",
        "# Preços dos produtos\n",
        "precos = np.array([20, 25, 30, 35, 40])\n",
        "\n",
        "# Encontrar o produto mais caro e mais barato\n",
        "produto_mais_caro = np.max(precos)\n",
        "produto_mais_barato = np.min(precos)\n",
        "print(produto_mais_caro, produto_mais_barato)"
      ]
    },
    {
      "cell_type": "markdown",
      "metadata": {
        "id": "YgOGwgDzBBYW"
      },
      "source": [
        "## np.sort()\n",
        "\n",
        "A função `sort()` é usada para ordenar os elementos de um array. Por exemplo, para ordenar as vendas diárias.\n",
        "\n"
      ]
    },
    {
      "cell_type": "code",
      "execution_count": null,
      "metadata": {
        "ExecuteTime": {
          "end_time": "2023-07-03T19:00:02.165578300Z",
          "start_time": "2023-07-03T19:00:02.145146900Z"
        },
        "jupyter": {
          "outputs_hidden": false
        },
        "id": "OGvF9W34BBYY",
        "outputId": "585ee08e-d03d-4b9b-ed9a-ffbd3b927fe1"
      },
      "outputs": [
        {
          "name": "stdout",
          "output_type": "stream",
          "text": [
            "[200 210 220 250 300]\n"
          ]
        }
      ],
      "source": [
        "\n",
        "\n",
        "# Vendas diárias\n",
        "vendas = np.array([200, 220, 250, 210, 300])\n",
        "\n",
        "# Ordenar as vendas\n",
        "vendas_ordenadas = np.sort(vendas)\n",
        "print(vendas_ordenadas)\n"
      ]
    },
    {
      "cell_type": "markdown",
      "metadata": {
        "id": "vfQwd8ScBBY3"
      },
      "source": [
        "## np.dot()\n",
        "\n",
        "A função `np.dot()` é usada para calcular o produto escalar de dois arrays. Por exemplo, em uma empresa de varejo, você pode querer calcular o valor total de vendas, dado o número de cada produto vendido e o preço de cada produto.\n"
      ]
    },
    {
      "cell_type": "code",
      "execution_count": null,
      "metadata": {
        "ExecuteTime": {
          "end_time": "2023-07-03T19:00:02.183839Z",
          "start_time": "2023-07-03T19:00:02.158170300Z"
        },
        "jupyter": {
          "outputs_hidden": false
        },
        "id": "dLz8a5M1BBY-"
      },
      "outputs": [],
      "source": [
        "\n",
        "\n",
        "# Número de produtos vendidos\n",
        "quantidades = np.array([10, 20, 30, 40])\n",
        "\n",
        "# Preços dos produtos\n",
        "precos = np.array([5, 10, 15, 20])\n",
        "\n",
        "# Calcular o valor total de vendas?"
      ]
    },
    {
      "cell_type": "code",
      "execution_count": null,
      "metadata": {
        "ExecuteTime": {
          "end_time": "2023-07-03T19:00:02.219520300Z",
          "start_time": "2023-07-03T19:00:02.174584300Z"
        },
        "jupyter": {
          "outputs_hidden": false
        },
        "id": "XpHDmkzNBBZA",
        "outputId": "96adb9c8-cbb2-46ea-a987-e02a4e08d147"
      },
      "outputs": [
        {
          "name": "stdout",
          "output_type": "stream",
          "text": [
            "[ 50 200 450 800]\n"
          ]
        }
      ],
      "source": [
        "print(quantidades * precos)"
      ]
    },
    {
      "cell_type": "code",
      "execution_count": null,
      "metadata": {
        "ExecuteTime": {
          "end_time": "2023-07-03T19:00:02.252930100Z",
          "start_time": "2023-07-03T19:00:02.190027200Z"
        },
        "jupyter": {
          "outputs_hidden": false
        },
        "id": "m1GXk5XEBBZC",
        "outputId": "5ea5f856-6e78-4174-fc6b-28f4cac06022"
      },
      "outputs": [
        {
          "name": "stdout",
          "output_type": "stream",
          "text": [
            "1500\n"
          ]
        }
      ],
      "source": [
        "print(np.sum(quantidades * precos))"
      ]
    },
    {
      "cell_type": "code",
      "execution_count": null,
      "metadata": {
        "ExecuteTime": {
          "end_time": "2023-07-03T19:00:02.253920200Z",
          "start_time": "2023-07-03T19:00:02.205932500Z"
        },
        "jupyter": {
          "outputs_hidden": false
        },
        "id": "hWP00czuBBZa",
        "outputId": "9bad56ac-f2dd-49d6-a462-57c9e41c7d92"
      },
      "outputs": [
        {
          "name": "stdout",
          "output_type": "stream",
          "text": [
            "1500\n"
          ]
        }
      ],
      "source": [
        "total_vendas = np.dot(quantidades, precos)\n",
        "print(total_vendas)\n"
      ]
    }
  ],
  "metadata": {
    "kernelspec": {
      "display_name": "Python 3 (ipykernel)",
      "language": "python",
      "name": "python3"
    },
    "language_info": {
      "codemirror_mode": {
        "name": "ipython",
        "version": 3
      },
      "file_extension": ".py",
      "mimetype": "text/x-python",
      "name": "python",
      "nbconvert_exporter": "python",
      "pygments_lexer": "ipython3",
      "version": "3.10.11"
    },
    "colab": {
      "provenance": [],
      "include_colab_link": true
    }
  },
  "nbformat": 4,
  "nbformat_minor": 0
}