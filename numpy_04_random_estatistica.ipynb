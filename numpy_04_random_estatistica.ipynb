{
  "cells": [
    {
      "cell_type": "markdown",
      "metadata": {
        "id": "view-in-github",
        "colab_type": "text"
      },
      "source": [
        "<a href=\"https://colab.research.google.com/github/Nelrau/numpy/blob/main/numpy_04_random_estatistica.ipynb\" target=\"_parent\"><img src=\"https://colab.research.google.com/assets/colab-badge.svg\" alt=\"Open In Colab\"/></a>"
      ]
    },
    {
      "cell_type": "markdown",
      "metadata": {
        "id": "1hp8wCB4Y_ws"
      },
      "source": [
        "# Guia de Introdução ao NumPy\n",
        "\n",
        "NumPy, que significa Numerical Python, é uma biblioteca fundamental para a computação científica em Python. Ela fornece suporte para arrays e matrizes, além de funções matemáticas para operações com esses objetos. É, também, a base da biblioteca Pandas.\n",
        "\n"
      ]
    },
    {
      "cell_type": "markdown",
      "metadata": {
        "id": "k5d2ZqUXY_xl"
      },
      "source": [
        "## Números aleatórios e estatística básica  "
      ]
    },
    {
      "cell_type": "code",
      "execution_count": 4,
      "metadata": {
        "ExecuteTime": {
          "end_time": "2023-07-03T19:08:37.587777300Z",
          "start_time": "2023-07-03T19:08:37.485498900Z"
        },
        "jupyter": {
          "outputs_hidden": false
        },
        "tags": [],
        "colab": {
          "base_uri": "https://localhost:8080/"
        },
        "id": "rAapJAZMY_xt",
        "outputId": "12bc029a-8fc9-4a47-c3c3-c4f7ed84fc1b"
      },
      "outputs": [
        {
          "output_type": "stream",
          "name": "stdout",
          "text": [
            "0.5040380919112848 Generator(PCG64)\n"
          ]
        }
      ],
      "source": [
        "import numpy as np\n",
        "\n",
        "# Crie um gerador de números aleatórios.\n",
        "rng = np.random.default_rng()\n",
        "\n",
        "numero_aleatorio = rng.random()\n",
        "print(numero_aleatorio,rng)"
      ]
    },
    {
      "cell_type": "code",
      "execution_count": 43,
      "metadata": {
        "tags": [],
        "colab": {
          "base_uri": "https://localhost:8080/"
        },
        "id": "O5bo0TfbY_yT",
        "outputId": "1c8b0faa-9c18-46fa-9a02-a5743d7765c0"
      },
      "outputs": [
        {
          "output_type": "stream",
          "name": "stdout",
          "text": [
            "[0.52297062 0.3269752  0.71614613]\n"
          ]
        }
      ],
      "source": [
        "array_aleatorio = rng.random(3)\n",
        "print(array_aleatorio)"
      ]
    },
    {
      "cell_type": "code",
      "execution_count": 15,
      "metadata": {
        "tags": [],
        "colab": {
          "base_uri": "https://localhost:8080/"
        },
        "id": "m-ImwML6Y_yX",
        "outputId": "0d5b2d67-4bea-4045-b80c-b38f89a3bc1a"
      },
      "outputs": [
        {
          "output_type": "stream",
          "name": "stdout",
          "text": [
            "[71.31779614 17.55978956 92.48137298]\n"
          ]
        }
      ],
      "source": [
        "print(array_aleatorio * 10)"
      ]
    },
    {
      "cell_type": "markdown",
      "metadata": {
        "id": "tuoBFojjY_yh"
      },
      "source": [
        " Vamos criar um cenário onde esses dados aleatórios podem ser úteis para uma análise de vendas.\n",
        "\n",
        "Suponha que você seja um analista de vendas em uma empresa e queira entender melhor o desempenho das vendas de um produto específico. No entanto, você não tem acesso aos dados reais de vendas, então você decide gerar alguns dados de vendas aleatórios para realizar sua análise."
      ]
    },
    {
      "cell_type": "code",
      "execution_count": 47,
      "metadata": {
        "colab": {
          "base_uri": "https://localhost:8080/"
        },
        "id": "j_OFZr2NY_yv",
        "outputId": "592619bc-54cb-4aed-d84b-4005b338f2c8"
      },
      "outputs": [
        {
          "output_type": "stream",
          "name": "stdout",
          "text": [
            "[ 63 166 148 115 114 178  62 154  80  64 128 196 160 164 157 167 126  69\n",
            " 175 117 125 105  77 189 167 146 110 173 131 116]\n"
          ]
        }
      ],
      "source": [
        "# Gere dados de vendas falsos para 30 dias\n",
        "# Vamos supor que as vendas de um produto podem variar de 50 a 200 por dia\n",
        "rng = np.random.default_rng(seed=42)\n",
        "dados_vendas = rng.integers(low=50, high=200, size=30)\n",
        "print(dados_vendas)"
      ]
    },
    {
      "cell_type": "markdown",
      "metadata": {
        "id": "CrlQ4yfaY_yy"
      },
      "source": [
        "Agora, você pode usar esses dados para realizar várias análises. Por exemplo, você pode querer saber qual foi o dia com as vendas mais altas, as vendas mais baixas, ou a média de vendas durante o mês. Aqui está como você pode fazer isso:\n",
        "\n"
      ]
    },
    {
      "cell_type": "code",
      "execution_count": null,
      "metadata": {
        "ExecuteTime": {
          "end_time": "2023-07-03T19:08:37.632068400Z",
          "start_time": "2023-07-03T19:08:37.588809500Z"
        },
        "jupyter": {
          "outputs_hidden": false
        },
        "id": "qV3PdKUOY_y1",
        "outputId": "901d306d-ff24-4ac3-867a-3ff6ed6d9049"
      },
      "outputs": [
        {
          "name": "stdout",
          "output_type": "stream",
          "text": [
            "196\n"
          ]
        }
      ],
      "source": [
        "print(np.max(dados_vendas))"
      ]
    },
    {
      "cell_type": "code",
      "execution_count": null,
      "metadata": {
        "ExecuteTime": {
          "end_time": "2023-07-03T19:08:37.645071400Z",
          "start_time": "2023-07-03T19:08:37.603959300Z"
        },
        "jupyter": {
          "outputs_hidden": false
        },
        "id": "7Qf4pQa2Y_zA",
        "outputId": "40628840-b577-4279-e7f0-be69cad9823d"
      },
      "outputs": [
        {
          "name": "stdout",
          "output_type": "stream",
          "text": [
            "11\n"
          ]
        }
      ],
      "source": [
        "print(np.argmax(dados_vendas))"
      ]
    },
    {
      "cell_type": "code",
      "execution_count": null,
      "metadata": {
        "ExecuteTime": {
          "end_time": "2023-07-03T19:08:37.646071400Z",
          "start_time": "2023-07-03T19:08:37.632068400Z"
        },
        "jupyter": {
          "outputs_hidden": false
        },
        "id": "OuneyuPoY_zR",
        "outputId": "be3e77ba-2ced-4423-83e8-d001e5eca1bc"
      },
      "outputs": [
        {
          "name": "stdout",
          "output_type": "stream",
          "text": [
            "O dia com as vendas mais altas foi o dia 12 com 196 vendas.\n"
          ]
        }
      ],
      "source": [
        "# Dia com as vendas mais altas\n",
        "vendas_maximas = np.max(dados_vendas)\n",
        "dia_vendas_maximas = np.argmax(dados_vendas) + 1\n",
        "print(f\"O dia com as vendas mais altas foi o dia {dia_vendas_maximas} com {vendas_maximas} vendas.\")"
      ]
    },
    {
      "cell_type": "code",
      "execution_count": null,
      "metadata": {
        "ExecuteTime": {
          "end_time": "2023-07-03T19:08:37.663806800Z",
          "start_time": "2023-07-03T19:08:37.637069700Z"
        },
        "jupyter": {
          "outputs_hidden": false
        },
        "id": "2swpXF9hY_zX",
        "outputId": "a9a6cb2f-e3ef-4346-c80e-f897e2571d46"
      },
      "outputs": [
        {
          "name": "stdout",
          "output_type": "stream",
          "text": [
            "O dia com as vendas mais baixas foi o dia 7 com 62 vendas.\n"
          ]
        }
      ],
      "source": [
        "# Dia com as vendas mais baixas\n",
        "vendas_minimas = np.min(dados_vendas)\n",
        "dia_vendas_minimas = np.argmin(dados_vendas) + 1\n",
        "print(f\"O dia com as vendas mais baixas foi o dia {dia_vendas_minimas} com {vendas_minimas} vendas.\")"
      ]
    },
    {
      "cell_type": "code",
      "execution_count": null,
      "metadata": {
        "ExecuteTime": {
          "end_time": "2023-07-03T19:08:37.725368300Z",
          "start_time": "2023-07-03T19:08:37.650546200Z"
        },
        "jupyter": {
          "outputs_hidden": false
        },
        "id": "fYsztniOY_zZ",
        "outputId": "20045ccd-f360-4780-beaf-23ac5e430874"
      },
      "outputs": [
        {
          "name": "stdout",
          "output_type": "stream",
          "text": [
            "A média de vendas durante o mês foi de 131.4 vendas por dia.\n"
          ]
        }
      ],
      "source": [
        "# Média de vendas durante o mês\n",
        "media_vendas = np.mean(dados_vendas)\n",
        "print(f\"A média de vendas durante o mês foi de {media_vendas} vendas por dia.\")\n"
      ]
    },
    {
      "cell_type": "code",
      "execution_count": 48,
      "metadata": {
        "ExecuteTime": {
          "end_time": "2023-07-03T19:08:37.732810Z",
          "start_time": "2023-07-03T19:08:37.665985900Z"
        },
        "jupyter": {
          "outputs_hidden": false
        },
        "colab": {
          "base_uri": "https://localhost:8080/"
        },
        "id": "Bnnt9Bb3Y_zh",
        "outputId": "af8eb844-bf2a-4ff2-def0-b66d34d644f4"
      },
      "outputs": [
        {
          "output_type": "stream",
          "name": "stdout",
          "text": [
            "129.5\n"
          ]
        }
      ],
      "source": [
        "print(np.median(dados_vendas))"
      ]
    },
    {
      "cell_type": "code",
      "execution_count": 49,
      "metadata": {
        "ExecuteTime": {
          "end_time": "2023-07-03T19:08:37.732810Z",
          "start_time": "2023-07-03T19:08:37.682149Z"
        },
        "jupyter": {
          "outputs_hidden": false
        },
        "colab": {
          "base_uri": "https://localhost:8080/"
        },
        "id": "A07Hhmt7Y_zj",
        "outputId": "d5738a61-b370-4561-956f-7884ce657478"
      },
      "outputs": [
        {
          "output_type": "stream",
          "name": "stdout",
          "text": [
            "129.5\n"
          ]
        }
      ],
      "source": [
        "print(np.percentile(dados_vendas, 50))"
      ]
    },
    {
      "cell_type": "code",
      "execution_count": 50,
      "metadata": {
        "ExecuteTime": {
          "end_time": "2023-07-03T19:08:37.732810Z",
          "start_time": "2023-07-03T19:08:37.697103900Z"
        },
        "jupyter": {
          "outputs_hidden": false
        },
        "colab": {
          "base_uri": "https://localhost:8080/"
        },
        "id": "yeJYefHQY_zm",
        "outputId": "7c56245c-daf2-4637-fa3f-9bf5e49d42e8"
      },
      "outputs": [
        {
          "output_type": "stream",
          "name": "stdout",
          "text": [
            "39.305300745149715\n"
          ]
        }
      ],
      "source": [
        "print(np.std(dados_vendas))"
      ]
    },
    {
      "cell_type": "code",
      "execution_count": 51,
      "metadata": {
        "ExecuteTime": {
          "end_time": "2023-07-03T19:08:37.734208600Z",
          "start_time": "2023-07-03T19:08:37.713232300Z"
        },
        "jupyter": {
          "outputs_hidden": false
        },
        "colab": {
          "base_uri": "https://localhost:8080/"
        },
        "id": "wIU1vPT3Y_zn",
        "outputId": "7eafb966-37bf-48f9-9e52-3e8c69c2e390"
      },
      "outputs": [
        {
          "output_type": "stream",
          "name": "stdout",
          "text": [
            "1544.9066666666665\n"
          ]
        }
      ],
      "source": [
        "print(np.var(dados_vendas))\n"
      ]
    },
    {
      "cell_type": "markdown",
      "metadata": {
        "id": "5wGaTKLLY_zo"
      },
      "source": [
        "Breve resumo e conceitos simplificados das funções estatísticas citadas:\n",
        "\n",
        "1. Mediana:\n",
        "A mediana é um valor que divide um conjunto de dados em duas partes iguais. Para encontrá-la, você deve organizar os dados em ordem crescente ou decrescente e escolher o valor do meio. Se houver um número ímpar de dados, a mediana será exatamente o valor central. Se houver um número par de dados, a mediana será a média dos dois valores do meio.\n",
        "\n",
        "2. Percentil:\n",
        "O percentil é uma medida estatística que indica a posição relativa de um dado dentro de um conjunto de dados. Ele informa a porcentagem de valores que estão abaixo desse dado. Por exemplo, o percentil 50 (também conhecido como mediana) divide os dados em duas partes iguais, com 50% dos valores abaixo dele e 50% acima.\n",
        "\n",
        "3. Desvio padrão:\n",
        "O desvio padrão é uma medida que indica o quão dispersos os valores de um conjunto de dados estão em relação à média. Ele mostra a variabilidade dos dados em relação ao valor médio. Um desvio padrão maior indica que os dados estão mais espalhados, enquanto um desvio padrão menor indica que os dados estão mais próximos da média.\n",
        "\n",
        "4. Variância:\n",
        "A variância é outra medida de dispersão que indica o quão distantes os valores de um conjunto de dados estão da média. Ela é calculada como a média dos quadrados das diferenças entre cada valor e a média. A variância fornece uma medida da dispersão total dos dados, independentemente de serem maiores ou menores que a média.\n",
        "\n",
        "Essas medidas são amplamente utilizadas na estatística para resumir e analisar conjuntos de dados. Elas fornecem informações valiosas sobre a distribuição, a variabilidade e a posição dos dados, permitindo uma compreensão mais completa dos mesmos."
      ]
    }
  ],
  "metadata": {
    "kernelspec": {
      "display_name": "Python 3 (ipykernel)",
      "language": "python",
      "name": "python3"
    },
    "language_info": {
      "codemirror_mode": {
        "name": "ipython",
        "version": 3
      },
      "file_extension": ".py",
      "mimetype": "text/x-python",
      "name": "python",
      "nbconvert_exporter": "python",
      "pygments_lexer": "ipython3",
      "version": "3.10.11"
    },
    "colab": {
      "provenance": [],
      "include_colab_link": true
    }
  },
  "nbformat": 4,
  "nbformat_minor": 0
}