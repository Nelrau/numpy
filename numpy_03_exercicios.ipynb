{
  "cells": [
    {
      "cell_type": "markdown",
      "metadata": {
        "id": "view-in-github",
        "colab_type": "text"
      },
      "source": [
        "<a href=\"https://colab.research.google.com/github/Nelrau/numpy/blob/main/numpy_03_exercicios.ipynb\" target=\"_parent\"><img src=\"https://colab.research.google.com/assets/colab-badge.svg\" alt=\"Open In Colab\"/></a>"
      ]
    },
    {
      "cell_type": "markdown",
      "metadata": {
        "id": "5fAo_ozPGzhE"
      },
      "source": [
        "## Exercício 1\n",
        "\n",
        "Você é um gerente de vendas e tem os dados de vendas de um produto para os últimos 7 dias em uma lista: `[127, 90, 201, 150, 210, 220, 115]`. Calcule a média de vendas durante a semana."
      ]
    },
    {
      "cell_type": "code",
      "execution_count": 3,
      "metadata": {
        "jupyter": {
          "outputs_hidden": false
        },
        "colab": {
          "base_uri": "https://localhost:8080/"
        },
        "id": "ZICBaTpTGzhX",
        "outputId": "90006d76-c387-4a59-dd4d-33433e6dacaf"
      },
      "outputs": [
        {
          "output_type": "stream",
          "name": "stdout",
          "text": [
            "159.0\n",
            "159.0\n"
          ]
        }
      ],
      "source": [
        "import numpy as np\n",
        "\n",
        "dados = [127, 90, 201, 150, 210, 220, 115]\n",
        "\n",
        "media = np.mean(dados)\n",
        "print(media)\n",
        "mediaa = sum(dados)/7\n",
        "print(mediaa)"
      ]
    },
    {
      "cell_type": "markdown",
      "metadata": {
        "id": "jpza3zhSGzhb"
      },
      "source": [
        "## Exercício 2\n",
        "\n",
        "Você é um analista financeiro e tem os preços de fechamento diário de uma ação para a última semana em um array NumPy: `precos = np.array([31.40, 31.25, 30.95, 31.20, 31.60, 31.50])`. Calcule o preço máximo, mínimo e a variação de preço durante a semana."
      ]
    },
    {
      "cell_type": "code",
      "execution_count": 6,
      "metadata": {
        "jupyter": {
          "outputs_hidden": false
        },
        "colab": {
          "base_uri": "https://localhost:8080/"
        },
        "id": "7D-5tO0JGzhd",
        "outputId": "b4f52ade-32e0-4da0-bfdd-4b0e8625c95d"
      },
      "outputs": [
        {
          "output_type": "stream",
          "name": "stdout",
          "text": [
            "maximo 31.6 minimo 30.95 total 0.65\n"
          ]
        }
      ],
      "source": [
        "precos = np.array([31.40, 31.25, 30.95, 31.20, 31.60, 31.50])\n",
        "max = np.max(precos)\n",
        "min = np.min(precos)\n",
        "print(f'maximo {max} minimo {min} total {max - min:.2f}')"
      ]
    },
    {
      "cell_type": "markdown",
      "metadata": {
        "id": "0IqvlBLQGzhg"
      },
      "source": [
        "## Exercício 3\n",
        "\n",
        "Sua loja vendeu em um dia 5 unidades do *Produto A*, 3 unidades do *Produto B* e 2 unidades do *Produto C*. Os preços dos produtos são, respectivamente, 100, 200 e 50 reais. Calcule o total de vendas do dia."
      ]
    },
    {
      "cell_type": "code",
      "execution_count": 17,
      "metadata": {
        "colab": {
          "base_uri": "https://localhost:8080/"
        },
        "id": "YOxYYO9SGzhi",
        "outputId": "4c1dbb6d-a29b-4bb2-a995-32fb96863eb9"
      },
      "outputs": [
        {
          "output_type": "stream",
          "name": "stdout",
          "text": [
            "1200 1200\n",
            "1200\n",
            "0.00\n",
            "0.00\n"
          ]
        }
      ],
      "source": [
        "import time\n",
        "quantidades = np.array([5, 3, 2])\n",
        "precos = np.array([100, 200, 50])\n",
        "total = np.dot(precos, quantidades)\n",
        "inicio = time.time()\n",
        "to = np.dot(quantidades,precos)\n",
        "print(total, to)\n",
        "fim = time.time()\n",
        "inicioo = time.time()\n",
        "x = np.sum(quantidades * precos)\n",
        "fimm = time.time()\n",
        "print(x)\n",
        "print(f'{fim - inicio:.2f}\\n{fimm - inicioo:.2f}')"
      ]
    }
  ],
  "metadata": {
    "kernelspec": {
      "display_name": "Python 3 (ipykernel)",
      "language": "python",
      "name": "python3"
    },
    "language_info": {
      "codemirror_mode": {
        "name": "ipython",
        "version": 3
      },
      "file_extension": ".py",
      "mimetype": "text/x-python",
      "name": "python",
      "nbconvert_exporter": "python",
      "pygments_lexer": "ipython3",
      "version": "3.10.11"
    },
    "colab": {
      "provenance": [],
      "include_colab_link": true
    }
  },
  "nbformat": 4,
  "nbformat_minor": 0
}