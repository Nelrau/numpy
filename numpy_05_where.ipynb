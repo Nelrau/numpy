{
  "cells": [
    {
      "cell_type": "markdown",
      "metadata": {
        "id": "view-in-github",
        "colab_type": "text"
      },
      "source": [
        "<a href=\"https://colab.research.google.com/github/Nelrau/numpy/blob/main/numpy_05_where.ipynb\" target=\"_parent\"><img src=\"https://colab.research.google.com/assets/colab-badge.svg\" alt=\"Open In Colab\"/></a>"
      ]
    },
    {
      "cell_type": "markdown",
      "metadata": {
        "id": "qEmbHXQSw06m"
      },
      "source": [
        "# Guia de Introdução ao NumPy\n",
        "\n",
        "NumPy, que significa Numerical Python, é uma biblioteca fundamental para a computação científica em Python. Ela fornece suporte para arrays e matrizes, além de funções matemáticas para operações com esses objetos. É, também, a base da biblioteca Pandas.\n",
        "\n"
      ]
    },
    {
      "cell_type": "markdown",
      "metadata": {
        "id": "EYUyBr07w063"
      },
      "source": [
        "## Filtros e np.where()\n",
        "\n",
        "A função `np.where()` é muito útil para fazer uma seleção condicional de elementos de um array. Por exemplo, em uma empresa, você pode querer identificar quais funcionários têm salários acima da média.\n"
      ]
    },
    {
      "cell_type": "code",
      "execution_count": 2,
      "metadata": {
        "ExecuteTime": {
          "end_time": "2023-07-03T19:29:17.084820600Z",
          "start_time": "2023-07-03T19:29:16.980857600Z"
        },
        "jupyter": {
          "outputs_hidden": false
        },
        "colab": {
          "base_uri": "https://localhost:8080/"
        },
        "id": "HC31qEFww066",
        "outputId": "b0ed95b2-a4df-4493-99ea-8d2de90cd19d"
      },
      "outputs": [
        {
          "output_type": "stream",
          "name": "stdout",
          "text": [
            "3714.285714285714\n"
          ]
        }
      ],
      "source": [
        "import numpy as np\n",
        "\n",
        "# Salários dos funcionários\n",
        "salarios = np.array([3000, 3500, 4000, 2000, 4500, 4000, 5000])\n",
        "\n",
        "# Calcular a média salarial\n",
        "media_salarial = np.mean(salarios)\n",
        "\n",
        "print(media_salarial)"
      ]
    },
    {
      "cell_type": "code",
      "execution_count": 3,
      "metadata": {
        "ExecuteTime": {
          "end_time": "2023-07-03T19:29:17.129154400Z",
          "start_time": "2023-07-03T19:29:17.086939600Z"
        },
        "jupyter": {
          "outputs_hidden": false
        },
        "colab": {
          "base_uri": "https://localhost:8080/"
        },
        "id": "eTtx9eT2w07A",
        "outputId": "50b0f22e-61dd-48e5-9870-eac1015c27ed"
      },
      "outputs": [
        {
          "output_type": "stream",
          "name": "stdout",
          "text": [
            "(array([2, 4, 5, 6]),)\n"
          ]
        }
      ],
      "source": [
        "# Identificar funcionários com salários acima da média\n",
        "funcionarios_acima_media = np.where(salarios > media_salarial)\n",
        "print(funcionarios_acima_media)"
      ]
    },
    {
      "cell_type": "code",
      "execution_count": 9,
      "metadata": {
        "ExecuteTime": {
          "end_time": "2023-07-03T19:29:17.140319500Z",
          "start_time": "2023-07-03T19:29:17.101027100Z"
        },
        "jupyter": {
          "outputs_hidden": false
        },
        "colab": {
          "base_uri": "https://localhost:8080/"
        },
        "id": "azMET7S3w07C",
        "outputId": "842c174a-3b4d-46a3-ebf9-046216f8631d"
      },
      "outputs": [
        {
          "output_type": "stream",
          "name": "stdout",
          "text": [
            "[3500 4000 4500 5000]\n"
          ]
        }
      ],
      "source": [
        "print(salarios[funcionarios_acima_media])"
      ]
    },
    {
      "cell_type": "code",
      "execution_count": 12,
      "metadata": {
        "colab": {
          "base_uri": "https://localhost:8080/"
        },
        "id": "TZKViO7sw07F",
        "outputId": "0b3af35d-e726-4763-cbc0-22ad936546f6"
      },
      "outputs": [
        {
          "output_type": "stream",
          "name": "stdout",
          "text": [
            "[False False  True False  True  True  True]\n"
          ]
        }
      ],
      "source": [
        "print(salarios > media_salarial)"
      ]
    },
    {
      "cell_type": "code",
      "execution_count": null,
      "metadata": {
        "ExecuteTime": {
          "end_time": "2023-07-03T19:29:17.140319500Z",
          "start_time": "2023-07-03T19:29:17.129154400Z"
        },
        "jupyter": {
          "outputs_hidden": false
        },
        "id": "MhfTYmWgw07H",
        "outputId": "7aea35ee-b5fa-4288-cb6e-f5f6e8572b21"
      },
      "outputs": [
        {
          "name": "stdout",
          "output_type": "stream",
          "text": [
            "[4000 4500 4000 5000]\n"
          ]
        }
      ],
      "source": [
        "print(salarios[salarios > media_salarial])"
      ]
    },
    {
      "cell_type": "code",
      "execution_count": null,
      "metadata": {
        "ExecuteTime": {
          "end_time": "2023-07-03T19:29:17.163129500Z",
          "start_time": "2023-07-03T19:29:17.132160500Z"
        },
        "jupyter": {
          "outputs_hidden": false
        },
        "id": "v1jqdj-aw07K",
        "outputId": "9530162b-3738-4f64-bfbf-f351a5179415"
      },
      "outputs": [
        {
          "name": "stdout",
          "output_type": "stream",
          "text": [
            "[4000 4500 4000 5000]\n"
          ]
        }
      ],
      "source": [
        "print(salarios[salarios >= 4000])"
      ]
    },
    {
      "cell_type": "code",
      "execution_count": null,
      "metadata": {
        "ExecuteTime": {
          "end_time": "2023-07-03T19:29:17.206393700Z",
          "start_time": "2023-07-03T19:29:17.147685100Z"
        },
        "jupyter": {
          "outputs_hidden": false
        },
        "id": "ut1sqhg8w07O",
        "outputId": "f4d80184-6f0b-4d52-9baf-67c5bafe388c"
      },
      "outputs": [
        {
          "name": "stdout",
          "output_type": "stream",
          "text": [
            "['abaixo da média' 'abaixo da média' 'acima da média' 'abaixo da média'\n",
            " 'acima da média' 'acima da média' 'acima da média']\n"
          ]
        }
      ],
      "source": [
        "print(np.where(salarios > media_salarial, 'acima da média', 'abaixo da média'))\n"
      ]
    },
    {
      "cell_type": "code",
      "execution_count": null,
      "metadata": {
        "ExecuteTime": {
          "end_time": "2023-07-03T19:29:17.208467Z",
          "start_time": "2023-07-03T19:29:17.162128100Z"
        },
        "jupyter": {
          "outputs_hidden": false
        },
        "id": "dawW4qlcw07T",
        "outputId": "d99990bf-754a-47c3-f7dc-1326cf37fc57"
      },
      "outputs": [
        {
          "name": "stdout",
          "output_type": "stream",
          "text": [
            "[3000 3500 4000 2000 4500 4000 5000]\n",
            "[3300. 3850. 4000. 2200. 4500. 4000. 5000.]\n"
          ]
        }
      ],
      "source": [
        "# dar bônus de 10% para os funcionários com salários abaixo da média\n",
        "salarios_bonus = np.where(salarios < media_salarial, salarios * 1.1, salarios)\n",
        "print(salarios)\n",
        "print(salarios_bonus)"
      ]
    },
    {
      "cell_type": "code",
      "execution_count": null,
      "metadata": {
        "ExecuteTime": {
          "end_time": "2023-07-03T19:29:17.209470100Z",
          "start_time": "2023-07-03T19:29:17.178638900Z"
        },
        "jupyter": {
          "outputs_hidden": false
        },
        "id": "F19bPcbDw07X",
        "outputId": "412adab2-12c1-4e9b-b163-70f011d22ec5"
      },
      "outputs": [
        {
          "name": "stdout",
          "output_type": "stream",
          "text": [
            "[3000 3500 4000 2000 4500 4000 5000]\n"
          ]
        }
      ],
      "source": [
        "# considerando novamente nossos salários originais\n",
        "print(salarios)"
      ]
    },
    {
      "cell_type": "code",
      "execution_count": null,
      "metadata": {
        "ExecuteTime": {
          "end_time": "2023-07-03T19:29:17.209470100Z",
          "start_time": "2023-07-03T19:29:17.193976700Z"
        },
        "jupyter": {
          "outputs_hidden": false
        },
        "id": "FHCsz-YFw07b",
        "outputId": "755af96b-b49d-465d-f5ce-1a82fb9bac42"
      },
      "outputs": [
        {
          "name": "stdout",
          "output_type": "stream",
          "text": [
            "(array([0, 1, 2, 4, 5], dtype=int64),)\n"
          ]
        }
      ],
      "source": [
        "# filtrar os salários entre 3000 e 4500 com where\n",
        "print(np.where((salarios >= 3000) & (salarios <= 4500)))"
      ]
    },
    {
      "cell_type": "code",
      "execution_count": null,
      "metadata": {
        "ExecuteTime": {
          "end_time": "2023-07-03T19:29:17.224062Z",
          "start_time": "2023-07-03T19:29:17.209470100Z"
        },
        "jupyter": {
          "outputs_hidden": false
        },
        "id": "JVSr94u8w07d",
        "outputId": "e0778c33-b97a-4bb7-e31c-8c526f1d1497"
      },
      "outputs": [
        {
          "name": "stdout",
          "output_type": "stream",
          "text": [
            "[3150. 3675. 4200. 2000. 4725. 4200. 5000.]\n"
          ]
        }
      ],
      "source": [
        "salarios_ajustados = np.where((salarios >= 3000) & (salarios <= 4500), salarios * 1.05, salarios)\n",
        "print(salarios_ajustados)\n"
      ]
    },
    {
      "cell_type": "code",
      "execution_count": null,
      "metadata": {
        "ExecuteTime": {
          "end_time": "2023-07-03T19:29:17.284416500Z",
          "start_time": "2023-07-03T19:29:17.225063300Z"
        },
        "jupyter": {
          "outputs_hidden": false
        },
        "id": "z9sWQpysw07h",
        "outputId": "2d375ae5-db5e-48e0-dbed-15dbea00ef00"
      },
      "outputs": [
        {
          "name": "stdout",
          "output_type": "stream",
          "text": [
            "(array([3, 4, 6], dtype=int64),)\n"
          ]
        }
      ],
      "source": [
        "# filtrar os salários abaixo de 3000 ou acima de 4500 com where\n",
        "print(np.where((salarios_ajustados < 3000) | (salarios_ajustados > 4500)))"
      ]
    },
    {
      "cell_type": "code",
      "execution_count": null,
      "metadata": {
        "ExecuteTime": {
          "end_time": "2023-07-03T19:29:17.297737300Z",
          "start_time": "2023-07-03T19:29:17.239696500Z"
        },
        "jupyter": {
          "outputs_hidden": false
        },
        "id": "NoIBOwGKw07j",
        "outputId": "8619c8c0-ce87-495b-94c2-18eabc84d4f4"
      },
      "outputs": [
        {
          "name": "stdout",
          "output_type": "stream",
          "text": [
            "[3150.  3675.  4200.  2200.  5197.5 4200.  5500. ]\n"
          ]
        }
      ],
      "source": [
        "salarios_ajustados = np.where((salarios_ajustados < 3000) | (salarios_ajustados > 4500), salarios_ajustados * 1.1, salarios_ajustados)\n",
        "print(salarios_ajustados)"
      ]
    },
    {
      "cell_type": "code",
      "execution_count": null,
      "metadata": {
        "jupyter": {
          "outputs_hidden": false
        },
        "id": "AIA9AsF-w07k"
      },
      "outputs": [],
      "source": []
    }
  ],
  "metadata": {
    "kernelspec": {
      "display_name": "Python 3 (ipykernel)",
      "language": "python",
      "name": "python3"
    },
    "language_info": {
      "codemirror_mode": {
        "name": "ipython",
        "version": 3
      },
      "file_extension": ".py",
      "mimetype": "text/x-python",
      "name": "python",
      "nbconvert_exporter": "python",
      "pygments_lexer": "ipython3",
      "version": "3.10.11"
    },
    "colab": {
      "provenance": [],
      "include_colab_link": true
    }
  },
  "nbformat": 4,
  "nbformat_minor": 0
}