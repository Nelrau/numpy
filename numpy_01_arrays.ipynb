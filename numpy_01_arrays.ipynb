{
  "cells": [
    {
      "cell_type": "markdown",
      "metadata": {
        "id": "view-in-github",
        "colab_type": "text"
      },
      "source": [
        "<a href=\"https://colab.research.google.com/github/Nelrau/numpy/blob/main/numpy_01_arrays.ipynb\" target=\"_parent\"><img src=\"https://colab.research.google.com/assets/colab-badge.svg\" alt=\"Open In Colab\"/></a>"
      ]
    },
    {
      "cell_type": "markdown",
      "metadata": {
        "id": "NTihPQ736_AD"
      },
      "source": [
        "# Guia de Introdução ao NumPy\n",
        "\n",
        "NumPy, que significa Numerical Python, é uma biblioteca fundamental para a computação científica em Python. Ela fornece suporte para arrays e matrizes, além de funções matemáticas para operações com esses objetos. É, também, a base da biblioteca Pandas.\n",
        "\n"
      ]
    },
    {
      "cell_type": "markdown",
      "metadata": {
        "id": "Gd3j71L36_AX"
      },
      "source": [
        "## Instalação\n",
        "\n",
        "Para instalar o NumPy, você pode usar o pip, que é o gerenciador de pacotes do Python.\n",
        "\n",
        "```python\n",
        "pip install numpy\n",
        "```\n",
        "\n",
        "## Arrays\n",
        "\n",
        "Um array é uma estrutura de dados que armazena valores do mesmo tipo. Em Python, isso é uma grande vantagem porque economiza espaço e permite operações mais eficientes. Vamos criar um array.\n",
        "\n"
      ]
    },
    {
      "cell_type": "code",
      "execution_count": 2,
      "metadata": {
        "ExecuteTime": {
          "end_time": "2023-07-03T18:59:32.603376700Z",
          "start_time": "2023-07-03T18:59:32.500617700Z"
        },
        "jupyter": {
          "outputs_hidden": false
        },
        "colab": {
          "base_uri": "https://localhost:8080/"
        },
        "id": "sFNy0H1k6_Ah",
        "outputId": "6398aa6b-6cfb-45dc-f482-a7ff30c611db"
      },
      "outputs": [
        {
          "output_type": "stream",
          "name": "stdout",
          "text": [
            "['a' 'b' 'c' 'd' 'e']\n"
          ]
        }
      ],
      "source": [
        "import numpy as np\n",
        "\n",
        "# Criação de um array\n",
        "array = np.array(['a','b','c','d','e'])\n",
        "print(array)"
      ]
    },
    {
      "cell_type": "code",
      "execution_count": 3,
      "metadata": {
        "ExecuteTime": {
          "end_time": "2023-07-03T18:59:32.647481500Z",
          "start_time": "2023-07-03T18:59:32.604469500Z"
        },
        "jupyter": {
          "outputs_hidden": false
        },
        "colab": {
          "base_uri": "https://localhost:8080/"
        },
        "id": "I2911re_6_A7",
        "outputId": "3a9b1235-7f49-4bac-92c6-2d97ef8d0d2f"
      },
      "outputs": [
        {
          "output_type": "stream",
          "name": "stdout",
          "text": [
            "a\n"
          ]
        }
      ],
      "source": [
        "print(array[0])"
      ]
    },
    {
      "cell_type": "code",
      "execution_count": 4,
      "metadata": {
        "ExecuteTime": {
          "end_time": "2023-07-03T18:59:32.658389600Z",
          "start_time": "2023-07-03T18:59:32.620214800Z"
        },
        "jupyter": {
          "outputs_hidden": false
        },
        "colab": {
          "base_uri": "https://localhost:8080/"
        },
        "id": "rYAsjUmd6_BL",
        "outputId": "5d41a5c9-a221-4b29-9737-f6a2568df48e"
      },
      "outputs": [
        {
          "output_type": "stream",
          "name": "stdout",
          "text": [
            "['b' 'c' 'd']\n"
          ]
        }
      ],
      "source": [
        "print(array[1:4])"
      ]
    },
    {
      "cell_type": "code",
      "execution_count": 5,
      "metadata": {
        "ExecuteTime": {
          "end_time": "2023-07-03T18:59:32.658389600Z",
          "start_time": "2023-07-03T18:59:32.647481500Z"
        },
        "jupyter": {
          "outputs_hidden": false
        },
        "colab": {
          "base_uri": "https://localhost:8080/"
        },
        "id": "lf_lEUe86_BP",
        "outputId": "f9220506-589a-4369-9195-75a90b82640b"
      },
      "outputs": [
        {
          "output_type": "stream",
          "name": "stdout",
          "text": [
            "['a' 'b' 'c' 'd']\n"
          ]
        }
      ],
      "source": [
        "print(array[0:-1])"
      ]
    },
    {
      "cell_type": "code",
      "execution_count": 6,
      "metadata": {
        "ExecuteTime": {
          "end_time": "2023-07-03T18:59:32.674910300Z",
          "start_time": "2023-07-03T18:59:32.650242Z"
        },
        "jupyter": {
          "outputs_hidden": false
        },
        "colab": {
          "base_uri": "https://localhost:8080/"
        },
        "id": "zB1ALM6S6_BU",
        "outputId": "004d0211-a98a-4fc6-9a13-5fa93e5850a2"
      },
      "outputs": [
        {
          "output_type": "stream",
          "name": "stdout",
          "text": [
            "['a' 'c']\n"
          ]
        }
      ],
      "source": [
        "print(array[0:-1:2])"
      ]
    },
    {
      "cell_type": "code",
      "execution_count": 7,
      "metadata": {
        "ExecuteTime": {
          "end_time": "2023-07-03T18:59:32.724828700Z",
          "start_time": "2023-07-03T18:59:32.665157200Z"
        },
        "jupyter": {
          "outputs_hidden": false
        },
        "colab": {
          "base_uri": "https://localhost:8080/"
        },
        "id": "GSBsAU176_Bt",
        "outputId": "84891396-a8f4-4b64-f106-27dd74e8fcf0"
      },
      "outputs": [
        {
          "output_type": "stream",
          "name": "stdout",
          "text": [
            "['a' 'c' 'e']\n"
          ]
        }
      ],
      "source": [
        "print(array[0::2])\n"
      ]
    },
    {
      "cell_type": "code",
      "execution_count": 12,
      "metadata": {
        "ExecuteTime": {
          "end_time": "2023-07-03T18:59:32.742515200Z",
          "start_time": "2023-07-03T18:59:32.680179300Z"
        },
        "jupyter": {
          "outputs_hidden": false
        },
        "colab": {
          "base_uri": "https://localhost:8080/"
        },
        "id": "rHkZNwhE6_B0",
        "outputId": "9db5bc74-5c0b-4d5b-aad3-58bbb290b30c"
      },
      "outputs": [
        {
          "output_type": "stream",
          "name": "stdout",
          "text": [
            "['a' 'c' 'e']\n"
          ]
        }
      ],
      "source": [
        "print(array[::2])\n"
      ]
    },
    {
      "cell_type": "code",
      "execution_count": 10,
      "metadata": {
        "ExecuteTime": {
          "end_time": "2023-07-03T18:59:32.742515200Z",
          "start_time": "2023-07-03T18:59:32.696007Z"
        },
        "jupyter": {
          "outputs_hidden": false
        },
        "colab": {
          "base_uri": "https://localhost:8080/"
        },
        "id": "nFgNQ18Z6_B5",
        "outputId": "80609917-ecd1-4e8b-986b-fe83805a2268"
      },
      "outputs": [
        {
          "output_type": "stream",
          "name": "stdout",
          "text": [
            "['a' 'b' 'c' 'd' 'e']\n"
          ]
        }
      ],
      "source": [
        "print(array[::])\n"
      ]
    },
    {
      "cell_type": "code",
      "execution_count": 11,
      "metadata": {
        "ExecuteTime": {
          "end_time": "2023-07-03T18:59:32.742515200Z",
          "start_time": "2023-07-03T18:59:32.713210100Z"
        },
        "jupyter": {
          "outputs_hidden": false
        },
        "colab": {
          "base_uri": "https://localhost:8080/"
        },
        "id": "MsjYcTw26_B8",
        "outputId": "db72f377-671b-4842-83b7-4499266097af"
      },
      "outputs": [
        {
          "output_type": "stream",
          "name": "stdout",
          "text": [
            "['e' 'd' 'c' 'b' 'a']\n"
          ]
        }
      ],
      "source": [
        "print(array[::-1])\n"
      ]
    }
  ],
  "metadata": {
    "kernelspec": {
      "display_name": "Python 3 (ipykernel)",
      "language": "python",
      "name": "python3"
    },
    "language_info": {
      "codemirror_mode": {
        "name": "ipython",
        "version": 3
      },
      "file_extension": ".py",
      "mimetype": "text/x-python",
      "name": "python",
      "nbconvert_exporter": "python",
      "pygments_lexer": "ipython3",
      "version": "3.10.11"
    },
    "colab": {
      "provenance": [],
      "include_colab_link": true
    }
  },
  "nbformat": 4,
  "nbformat_minor": 0
}